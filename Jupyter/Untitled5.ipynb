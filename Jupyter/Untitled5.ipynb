{
 "cells": [
  {
   "cell_type": "code",
   "execution_count": 14,
   "metadata": {},
   "outputs": [],
   "source": [
    "import pandas as pd\n",
    "import numpy as np\n",
    "import os\n",
    "csv= pd.read_csv('/Users/shenghaoisyummy/PycharmProjects/Capstone/OTR-20171101-20180331.csv', nrows=100000)"
   ]
  },
  {
   "cell_type": "code",
   "execution_count": 15,
   "metadata": {},
   "outputs": [],
   "source": [
    "csv = csv.dropna()\n",
    "dropped = csv.drop(['service_type', 'trip_zone', 'leading_set_type', 'station_arrival_status.1', 'station_departure_status','service_type'], axis = 1)"
   ]
  },
  {
   "cell_type": "code",
   "execution_count": 16,
   "metadata": {},
   "outputs": [],
   "source": [
    "filted = dropped[dropped.service_line =='Central Coast']"
   ]
  },
  {
   "cell_type": "code",
   "execution_count": null,
   "metadata": {},
   "outputs": [],
   "source": []
  },
  {
   "cell_type": "code",
   "execution_count": 17,
   "metadata": {},
   "outputs": [
    {
     "name": "stdout",
     "output_type": "stream",
     "text": [
      "<class 'pandas.core.frame.DataFrame'>\n",
      "Int64Index: 17944 entries, 0 to 97424\n",
      "Data columns (total 19 columns):\n",
      "business_centre              17944 non-null object\n",
      "service_date                 17944 non-null object\n",
      "segment_direction            17944 non-null object\n",
      "trip_name                    17944 non-null object\n",
      "service_line                 17944 non-null object\n",
      "origin_station               17944 non-null object\n",
      "dest_station                 17944 non-null object\n",
      "trip_dprt_status             17944 non-null object\n",
      "trip_arrv_status             17944 non-null object\n",
      "leading_set_number           17944 non-null object\n",
      "node_seq_order               17944 non-null int64\n",
      "planned_stop_node            17944 non-null object\n",
      "planned_stop_station         17944 non-null object\n",
      "planned_station_dprt_time    17944 non-null object\n",
      "planned_station_arrv_time    17944 non-null object\n",
      "actual_stop_node             17944 non-null object\n",
      "actual_stop_station          17944 non-null object\n",
      "actual_station_dprt_time     17944 non-null object\n",
      "actual_station_arrv_time     17944 non-null object\n",
      "dtypes: int64(1), object(18)\n",
      "memory usage: 2.7+ MB\n"
     ]
    }
   ],
   "source": [
    "filted = filted.rename(columns={'station_arrival_status': 'actual_station_arrv_time'})\n",
    "filted.info()"
   ]
  },
  {
   "cell_type": "code",
   "execution_count": 8,
   "metadata": {},
   "outputs": [],
   "source": [
    "path = '/Users/shenghaoisyummy/';\n",
    "filted.to_csv(path + 'filted.csv')"
   ]
  },
  {
   "cell_type": "code",
   "execution_count": null,
   "metadata": {},
   "outputs": [],
   "source": []
  }
 ],
 "metadata": {
  "kernelspec": {
   "display_name": "Python 3",
   "language": "python",
   "name": "python3"
  },
  "language_info": {
   "codemirror_mode": {
    "name": "ipython",
    "version": 3
   },
   "file_extension": ".py",
   "mimetype": "text/x-python",
   "name": "python",
   "nbconvert_exporter": "python",
   "pygments_lexer": "ipython3",
   "version": "3.6.5"
  }
 },
 "nbformat": 4,
 "nbformat_minor": 2
}
