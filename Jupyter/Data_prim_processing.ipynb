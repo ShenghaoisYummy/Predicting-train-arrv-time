{
 "cells": [
  {
   "cell_type": "code",
   "execution_count": 7,
   "metadata": {},
   "outputs": [
    {
     "name": "stdout",
     "output_type": "stream",
     "text": [
      "<class 'pandas.core.frame.DataFrame'>\n",
      "RangeIndex: 1048575 entries, 0 to 1048574\n",
      "Data columns (total 24 columns):\n",
      "business_centre              1048575 non-null object\n",
      "service_date                 1048575 non-null object\n",
      "segment_direction            1048575 non-null object\n",
      "trip_name                    1048575 non-null object\n",
      "service_type                 1048575 non-null object\n",
      "service_line                 1048575 non-null object\n",
      "trip_zone                    359711 non-null object\n",
      "origin_station               1048575 non-null object\n",
      "dest_station                 1048575 non-null object\n",
      "trip_dprt_status             1048575 non-null object\n",
      "trip_arrv_status             1048575 non-null object\n",
      "leading_set_number           717431 non-null object\n",
      "leading_set_type             717431 non-null object\n",
      "node_seq_order               1048575 non-null int64\n",
      "planned_stop_node            1048575 non-null object\n",
      "planned_stop_station         1048575 non-null object\n",
      "planned_station_dprt_time    1048575 non-null object\n",
      "planned_station_arrv_time    1048575 non-null object\n",
      "actual_stop_node             1048575 non-null object\n",
      "actual_stop_station          1048575 non-null object\n",
      "actual_station_dprt_time     728564 non-null object\n",
      "station_arrival_status       744480 non-null object\n",
      "station_arrival_status.1     1048575 non-null object\n",
      "station_departure_status     1048575 non-null object\n",
      "dtypes: int64(1), object(23)\n",
      "memory usage: 192.0+ MB\n"
     ]
    }
   ],
   "source": [
    "import pandas as pd\n",
    "import numpy as np\n",
    "import os\n",
    "\n",
    "csv= pd.read_csv('/Users/shenghaoisyummy/PycharmProjects/Capstone/OTR-20171101-20180331.csv')\n",
    "csv.info()"
   ]
  },
  {
   "cell_type": "code",
   "execution_count": 8,
   "metadata": {},
   "outputs": [
    {
     "name": "stdout",
     "output_type": "stream",
     "text": [
      "Not Applicable\n",
      "nan\n",
      "Central Coast & Newcastle Line\n",
      "T4\n"
     ]
    }
   ],
   "source": [
    "#csv = csv.dropna()\n",
    "def rowelement(colname, df):\n",
    "    list = []\n",
    "    for index, row in df.iterrows():\n",
    "        if row[colname] not in list:\n",
    "            list.append(row[colname])\n",
    "    return list\n",
    "dropped = csv.drop(['service_type', 'trip_zone', 'leading_set_type', 'station_arrival_status.1', 'station_departure_status','service_type'], axis = 1)\n",
    "list = rowelement('trip_zone', csv)\n",
    "for p in list: print(p)"
   ]
  },
  {
   "cell_type": "code",
   "execution_count": 9,
   "metadata": {},
   "outputs": [],
   "source": [
    "filted = dropped[dropped.service_line =='Central Coast']"
   ]
  },
  {
   "cell_type": "code",
   "execution_count": null,
   "metadata": {},
   "outputs": [],
   "source": []
  },
  {
   "cell_type": "code",
   "execution_count": 10,
   "metadata": {},
   "outputs": [
    {
     "name": "stdout",
     "output_type": "stream",
     "text": [
      "<class 'pandas.core.frame.DataFrame'>\n",
      "Int64Index: 264016 entries, 0 to 1047036\n",
      "Data columns (total 19 columns):\n",
      "business_centre              264016 non-null object\n",
      "service_date                 264016 non-null object\n",
      "segment_direction            264016 non-null object\n",
      "trip_name                    264016 non-null object\n",
      "service_line                 264016 non-null object\n",
      "origin_station               264016 non-null object\n",
      "dest_station                 264016 non-null object\n",
      "trip_dprt_status             264016 non-null object\n",
      "trip_arrv_status             264016 non-null object\n",
      "leading_set_number           259750 non-null object\n",
      "node_seq_order               264016 non-null int64\n",
      "planned_stop_node            264016 non-null object\n",
      "planned_stop_station         264016 non-null object\n",
      "planned_station_dprt_time    264016 non-null object\n",
      "planned_station_arrv_time    264016 non-null object\n",
      "actual_stop_node             264016 non-null object\n",
      "actual_stop_station          264016 non-null object\n",
      "actual_station_dprt_time     255583 non-null object\n",
      "actual_station_arrv_time     259319 non-null object\n",
      "dtypes: int64(1), object(18)\n",
      "memory usage: 40.3+ MB\n"
     ]
    }
   ],
   "source": [
    "filted = filted.rename(columns={'station_arrival_status': 'actual_station_arrv_time'})\n",
    "filted.info()"
   ]
  },
  {
   "cell_type": "code",
   "execution_count": 5,
   "metadata": {},
   "outputs": [],
   "source": [
    "path = '/Users/shenghaoisyummy/';\n",
    "filted.to_csv(path + 'filted.csv')"
   ]
  },
  {
   "cell_type": "code",
   "execution_count": null,
   "metadata": {},
   "outputs": [],
   "source": []
  }
 ],
 "metadata": {
  "kernelspec": {
   "display_name": "Python 3",
   "language": "python",
   "name": "python3"
  },
  "language_info": {
   "codemirror_mode": {
    "name": "ipython",
    "version": 3
   },
   "file_extension": ".py",
   "mimetype": "text/x-python",
   "name": "python",
   "nbconvert_exporter": "python",
   "pygments_lexer": "ipython3",
   "version": "3.6.5"
  }
 },
 "nbformat": 4,
 "nbformat_minor": 2
}
