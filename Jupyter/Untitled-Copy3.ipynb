{
 "cells": [
  {
   "cell_type": "code",
   "execution_count": 75,
   "metadata": {},
   "outputs": [],
   "source": [
    "from math import sqrt\n",
    "from numpy import concatenate\n",
    "import numpy as np\n",
    "import matplotlib.pyplot as pyplot\n",
    "import pandas as pd\n",
    "from keras.models import Sequential\n",
    "from keras.layers import Dense, Dropout\n",
    "from keras.layers import LSTM\n",
    "from sklearn.preprocessing import MinMaxScaler\n",
    "from sklearn.model_selection import train_test_split\n",
    "from sklearn.feature_selection import VarianceThreshold\n",
    "\n",
    "\n",
    "\n",
    "data_set = pd.read_csv('/Users/shenghaoisyummy/Capstone/feature_extraction_data_dummis.csv', index_col=0)"
   ]
  },
  {
   "cell_type": "code",
   "execution_count": 76,
   "metadata": {},
   "outputs": [
    {
     "data": {
      "text/plain": [
       "['arrv_late_time',\n",
       " 'dprt_late_time',\n",
       " 'last_node_arrv_late_time',\n",
       " 'last_node_dprt_late_time',\n",
       " 'last_2_node_arrv_late_time_sum',\n",
       " 'last_2_node_dprt_late_time_sum',\n",
       " 'last_2_node_arrv_late_time_mean',\n",
       " 'last_2_node_dprt_late_time_mean',\n",
       " 'last_2_node_arrv_late_time_median',\n",
       " 'last_2_node_dprt_late_time_median',\n",
       " 'last_2_node_arrv_late_time_std',\n",
       " 'last_2_node_dprt_late_time_std',\n",
       " 'last_2_node_arrv_late_time_max',\n",
       " 'last_2_node_dprt_late_time_max',\n",
       " 'last_2_node_arrv_late_time_min',\n",
       " 'last_2_node_dprt_late_time_min',\n",
       " 'last_7_node_arrv_late_time_sum',\n",
       " 'last_7_node_dprt_late_time_sum',\n",
       " 'last_7_node_arrv_late_time_mean',\n",
       " 'last_7_node_dprt_late_time_mean',\n",
       " 'last_7_node_arrv_late_time_median',\n",
       " 'last_7_node_dprt_late_time_median',\n",
       " 'last_7_node_arrv_late_time_std',\n",
       " 'last_7_node_dprt_late_time_std',\n",
       " 'last_7_node_arrv_late_time_max',\n",
       " 'last_7_node_dprt_late_time_max',\n",
       " 'last_7_node_arrv_late_time_min',\n",
       " 'last_7_node_dprt_late_time_min',\n",
       " 'last_14_node_arrv_late_time_sum',\n",
       " 'last_14_node_dprt_late_time_sum',\n",
       " 'last_14_node_arrv_late_time_mean',\n",
       " 'last_14_node_dprt_late_time_mean',\n",
       " 'last_14_node_arrv_late_time_median',\n",
       " 'last_14_node_dprt_late_time_median',\n",
       " 'last_14_node_arrv_late_time_std',\n",
       " 'last_14_node_dprt_late_time_std',\n",
       " 'last_14_node_arrv_late_time_max',\n",
       " 'last_14_node_dprt_late_time_max',\n",
       " 'last_14_node_arrv_late_time_min',\n",
       " 'last_14_node_dprt_late_time_min',\n",
       " 'last_2_days_arrv_late_time_sum',\n",
       " 'last_2_days_dprt_late_time_sum',\n",
       " 'last_2_days_arrv_late_time_mean',\n",
       " 'last_2_days_dprt_late_time_mean',\n",
       " 'last_2_days_arrv_late_time_median',\n",
       " 'last_2_days_dprt_late_time_median',\n",
       " 'last_2_days_arrv_late_time_std',\n",
       " 'last_2_days_dprt_late_time_std',\n",
       " 'last_2_days_arrv_late_time_max',\n",
       " 'last_2_days_dprt_late_time_max',\n",
       " 'last_2_days_arrv_late_time_min',\n",
       " 'last_2_days_dprt_late_time_min',\n",
       " 'last_7_days_arrv_late_time_sum',\n",
       " 'last_7_days_dprt_late_time_sum',\n",
       " 'last_7_days_arrv_late_time_mean',\n",
       " 'last_7_days_dprt_late_time_mean',\n",
       " 'last_7_days_arrv_late_time_median',\n",
       " 'last_7_days_dprt_late_time_median',\n",
       " 'last_7_days_arrv_late_time_std',\n",
       " 'last_7_days_dprt_late_time_std',\n",
       " 'last_7_days_arrv_late_time_max',\n",
       " 'last_7_days_dprt_late_time_max',\n",
       " 'last_7_days_arrv_late_time_min',\n",
       " 'last_7_days_dprt_late_time_min',\n",
       " 'last_14_days_arrv_late_time_sum',\n",
       " 'last_14_days_dprt_late_time_sum',\n",
       " 'last_14_days_arrv_late_time_mean',\n",
       " 'last_14_days_dprt_late_time_mean',\n",
       " 'last_14_days_arrv_late_time_median',\n",
       " 'last_14_days_dprt_late_time_median',\n",
       " 'last_14_days_arrv_late_time_std',\n",
       " 'last_14_days_dprt_late_time_std',\n",
       " 'last_14_days_arrv_late_time_max',\n",
       " 'last_14_days_dprt_late_time_max',\n",
       " 'last_14_days_arrv_late_time_min',\n",
       " 'last_14_days_dprt_late_time_min',\n",
       " 'is_same_stop_node',\n",
       " 'is_same_stop_station',\n",
       " 'day_of_week',\n",
       " 'planned_station_dprt_time_year',\n",
       " 'planned_station_dprt_time_month',\n",
       " 'planned_station_dprt_time_days',\n",
       " 'planned_station_dprt_time_hours',\n",
       " 'planned_station_dprt_time_minutes',\n",
       " 'planned_station_arrv_time_year',\n",
       " 'planned_station_arrv_time_month',\n",
       " 'planned_station_arrv_time_days',\n",
       " 'planned_station_arrv_time_hours',\n",
       " 'planned_station_arrv_time_minutes',\n",
       " 'actual_station_dprt_time_year',\n",
       " 'actual_station_dprt_time_month',\n",
       " 'actual_station_dprt_time_days',\n",
       " 'actual_station_dprt_time_hours',\n",
       " 'actual_station_dprt_time_minutes',\n",
       " 'actual_station_arrv_time_year',\n",
       " 'actual_station_arrv_time_month',\n",
       " 'actual_station_arrv_time_days',\n",
       " 'actual_station_arrv_time_hours',\n",
       " 'actual_station_arrv_time_minutes',\n",
       " 'is_peak_time',\n",
       " 'is_weekend',\n",
       " 'segment_direction_Down',\n",
       " 'segment_direction_Up',\n",
       " 'origin_station_Central',\n",
       " 'origin_station_Gosford',\n",
       " 'origin_station_Morisset',\n",
       " 'origin_station_Newcastle Interchange',\n",
       " 'dest_station_Central',\n",
       " 'dest_station_Fassifern',\n",
       " 'dest_station_Gosford',\n",
       " 'dest_station_Morisset',\n",
       " 'dest_station_Newcastle Interchange',\n",
       " 'dest_station_Wyong',\n",
       " 'planned_stop_station_Adamstown',\n",
       " 'planned_stop_station_Asquith',\n",
       " 'planned_stop_station_Awaba',\n",
       " 'planned_stop_station_Berowra',\n",
       " 'planned_stop_station_Booragul',\n",
       " 'planned_stop_station_Broadmeadow',\n",
       " 'planned_stop_station_Cardiff',\n",
       " 'planned_stop_station_Central',\n",
       " 'planned_stop_station_Cockle Creek',\n",
       " 'planned_stop_station_Cowan',\n",
       " 'planned_stop_station_Dora Creek',\n",
       " 'planned_stop_station_Eastwood',\n",
       " 'planned_stop_station_Epping',\n",
       " 'planned_stop_station_Fassifern',\n",
       " 'planned_stop_station_Gosford',\n",
       " 'planned_stop_station_Hamilton',\n",
       " 'planned_stop_station_Hawkesbury River',\n",
       " 'planned_stop_station_Hornsby',\n",
       " 'planned_stop_station_Koolewong',\n",
       " 'planned_stop_station_Kotara',\n",
       " 'planned_stop_station_Lisarow',\n",
       " 'planned_stop_station_Morisset',\n",
       " 'planned_stop_station_Mt Colah',\n",
       " 'planned_stop_station_Mt Kuring-gai',\n",
       " 'planned_stop_station_Narara',\n",
       " 'planned_stop_station_Newcastle Interchange',\n",
       " 'planned_stop_station_Niagara Park',\n",
       " 'planned_stop_station_Ourimbah',\n",
       " 'planned_stop_station_Point Clare',\n",
       " 'planned_stop_station_Redfern',\n",
       " 'planned_stop_station_Strathfield',\n",
       " 'planned_stop_station_Tascott',\n",
       " 'planned_stop_station_Teralba',\n",
       " 'planned_stop_station_Tuggerah',\n",
       " 'planned_stop_station_Warnervale',\n",
       " 'planned_stop_station_Wondabyne',\n",
       " 'planned_stop_station_Woy Woy',\n",
       " 'planned_stop_station_Wyee',\n",
       " 'planned_stop_station_Wyong',\n",
       " 'actual_stop_station_Adamstown',\n",
       " 'actual_stop_station_Asquith',\n",
       " 'actual_stop_station_Awaba',\n",
       " 'actual_stop_station_Berowra',\n",
       " 'actual_stop_station_Booragul',\n",
       " 'actual_stop_station_Broadmeadow',\n",
       " 'actual_stop_station_Cardiff',\n",
       " 'actual_stop_station_Central',\n",
       " 'actual_stop_station_Cockle Creek',\n",
       " 'actual_stop_station_Cowan',\n",
       " 'actual_stop_station_Dora Creek',\n",
       " 'actual_stop_station_Eastwood',\n",
       " 'actual_stop_station_Epping',\n",
       " 'actual_stop_station_Fassifern',\n",
       " 'actual_stop_station_Gosford',\n",
       " 'actual_stop_station_Hamilton',\n",
       " 'actual_stop_station_Hawkesbury River',\n",
       " 'actual_stop_station_Hornsby',\n",
       " 'actual_stop_station_Koolewong',\n",
       " 'actual_stop_station_Kotara',\n",
       " 'actual_stop_station_Lisarow',\n",
       " 'actual_stop_station_Missing',\n",
       " 'actual_stop_station_Morisset',\n",
       " 'actual_stop_station_Mt Colah',\n",
       " 'actual_stop_station_Mt Kuring-gai',\n",
       " 'actual_stop_station_Narara',\n",
       " 'actual_stop_station_Newcastle Interchange',\n",
       " 'actual_stop_station_Niagara Park',\n",
       " 'actual_stop_station_Ourimbah',\n",
       " 'actual_stop_station_Point Clare',\n",
       " 'actual_stop_station_Redfern',\n",
       " 'actual_stop_station_Strathfield',\n",
       " 'actual_stop_station_Tascott',\n",
       " 'actual_stop_station_Teralba',\n",
       " 'actual_stop_station_Tuggerah',\n",
       " 'actual_stop_station_Warnervale',\n",
       " 'actual_stop_station_Wondabyne',\n",
       " 'actual_stop_station_Woy Woy',\n",
       " 'actual_stop_station_Wyee',\n",
       " 'actual_stop_station_Wyong',\n",
       " 'trip_name_arrv_group_.50_to_.75',\n",
       " 'trip_name_arrv_group_great_than_.75',\n",
       " 'trip_name_arrv_group_less_than_.25',\n",
       " 'trip_name_dprt_group_.25_to_.50',\n",
       " 'trip_name_dprt_group_.50_to_.75',\n",
       " 'trip_name_dprt_group_great_than_.75',\n",
       " 'trip_name_dprt_group_less_than_.25',\n",
       " 'leading_set_number_arrv_group_.50_to_.75',\n",
       " 'leading_set_number_arrv_group_great_than_.75',\n",
       " 'leading_set_number_arrv_group_less_than_.25',\n",
       " 'leading_set_number_dprt_group_.25_to_.50',\n",
       " 'leading_set_number_dprt_group_.50_to_.75',\n",
       " 'leading_set_number_dprt_group_great_than_.75',\n",
       " 'leading_set_number_dprt_group_less_than_.25',\n",
       " 'planned_stop_node_arrv_group_.25_to_.50',\n",
       " 'planned_stop_node_arrv_group_great_than_.75',\n",
       " 'planned_stop_node_arrv_group_less_than_.25',\n",
       " 'planned_stop_node_dprt_group_.25_to_.50',\n",
       " 'planned_stop_node_dprt_group_.50_to_.75',\n",
       " 'planned_stop_node_dprt_group_great_than_.75',\n",
       " 'planned_stop_node_dprt_group_less_than_.25',\n",
       " 'actual_stop_node_arrv_group_.25_to_.50',\n",
       " 'actual_stop_node_arrv_group_great_than_.75',\n",
       " 'actual_stop_node_arrv_group_less_than_.25',\n",
       " 'actual_stop_node_dprt_group_.25_to_.50',\n",
       " 'actual_stop_node_dprt_group_.50_to_.75',\n",
       " 'actual_stop_node_dprt_group_great_than_.75',\n",
       " 'actual_stop_node_dprt_group_less_than_.25']"
      ]
     },
     "execution_count": 76,
     "metadata": {},
     "output_type": "execute_result"
    }
   ],
   "source": [
    "list(data_set)"
   ]
  },
  {
   "cell_type": "code",
   "execution_count": 77,
   "metadata": {},
   "outputs": [],
   "source": [
    "data_Y = data_set[['actual_station_arrv_time_days','actual_station_arrv_time_hours','actual_station_arrv_time_minutes']]\n",
    "data_set.drop(['actual_station_arrv_time_hours','actual_station_arrv_time_minutes', 'arrv_late_time', 'dprt_late_time', 'actual_station_dprt_time_hours', 'actual_station_dprt_time_minutes'], axis=1, inplace=True)\n"
   ]
  },
  {
   "cell_type": "code",
   "execution_count": 78,
   "metadata": {},
   "outputs": [
    {
     "data": {
      "text/plain": [
       "array([[-780.,    0.,    0., ...,   57.,    1.,    1.],\n",
       "       [ -60.,    0., -840., ...,    6.,    2.,    2.],\n",
       "       [ -60.,    0., -120., ...,   10.,    2.,    2.],\n",
       "       ...,\n",
       "       [ 240.,  240.,  480., ...,   39.,   11.,   11.],\n",
       "       [  60.,   60.,  300., ...,   43.,   11.,   11.],\n",
       "       [  60.,    0.,  120., ...,   48.,   11.,   11.]])"
      ]
     },
     "execution_count": 78,
     "metadata": {},
     "output_type": "execute_result"
    }
   ],
   "source": [
    "# data_X = data_set\n",
    "data_X = VarianceThreshold(threshold=3).fit_transform(data_set)\n",
    "data_X"
   ]
  },
  {
   "cell_type": "code",
   "execution_count": 79,
   "metadata": {},
   "outputs": [
    {
     "data": {
      "text/plain": [
       "(17953, 3)"
      ]
     },
     "execution_count": 79,
     "metadata": {},
     "output_type": "execute_result"
    }
   ],
   "source": [
    "data_Y.shape"
   ]
  },
  {
   "cell_type": "code",
   "execution_count": 80,
   "metadata": {},
   "outputs": [],
   "source": [
    "# make sure value as float\n",
    "data_X_values = data_X\n",
    "data_X_values = data_X_values.astype('float32')\n",
    "\n",
    "data_Y_values = data_Y.values\n",
    "data_Y_values = data_Y_values.astype('float32')\n",
    "# normalization\n",
    "scaler = MinMaxScaler(feature_range=(0, 1))\n",
    "data_X_values = scaler.fit_transform(data_X_values)\n",
    "data_Y_values = scaler.fit_transform(data_Y_values)\n",
    "# split train test\n",
    "train_X, test_X, train_y, test_y = train_test_split(data_X_values, data_Y_values, test_size = 0.2, random_state = 4)\n",
    "\n",
    "# reshape input to be 3D [samples, timesteps, features]\n",
    "train_X = train_X.reshape((train_X.shape[0], 1, train_X.shape[1]))\n",
    "test_X = test_X.reshape((test_X.shape[0], 1, test_X.shape[1]))\n",
    "\n"
   ]
  },
  {
   "cell_type": "code",
   "execution_count": 81,
   "metadata": {},
   "outputs": [],
   "source": [
    "model = Sequential()"
   ]
  },
  {
   "cell_type": "code",
   "execution_count": 82,
   "metadata": {},
   "outputs": [
    {
     "name": "stdout",
     "output_type": "stream",
     "text": [
      "Train on 14362 samples, validate on 3591 samples\n",
      "Epoch 1/10\n",
      " - 98s - loss: 0.1392 - acc: 0.6686 - val_loss: 0.0712 - val_acc: 0.8777\n",
      "Epoch 2/10\n",
      " - 97s - loss: 0.1094 - acc: 0.7218 - val_loss: 0.0752 - val_acc: 0.8273\n",
      "Epoch 3/10\n",
      " - 94s - loss: 0.1006 - acc: 0.7516 - val_loss: 0.0642 - val_acc: 0.8279\n",
      "Epoch 4/10\n",
      " - 92s - loss: 0.0935 - acc: 0.7677 - val_loss: 0.0845 - val_acc: 0.8090\n",
      "Epoch 5/10\n",
      " - 99s - loss: 0.0888 - acc: 0.7799 - val_loss: 0.0899 - val_acc: 0.7577\n",
      "Epoch 6/10\n",
      " - 93s - loss: 0.0846 - acc: 0.7925 - val_loss: 0.1078 - val_acc: 0.7725\n",
      "Epoch 7/10\n",
      " - 94s - loss: 0.0835 - acc: 0.7949 - val_loss: 0.1247 - val_acc: 0.7410\n",
      "Epoch 8/10\n",
      " - 92s - loss: 0.0822 - acc: 0.7978 - val_loss: 0.1175 - val_acc: 0.7842\n",
      "Epoch 9/10\n",
      " - 93s - loss: 0.0807 - acc: 0.8037 - val_loss: 0.1160 - val_acc: 0.7558\n",
      "Epoch 10/10\n",
      " - 91s - loss: 0.0804 - acc: 0.8021 - val_loss: 0.1145 - val_acc: 0.8034\n"
     ]
    },
    {
     "ename": "NameError",
     "evalue": "name 'mean_squared_error' is not defined",
     "output_type": "error",
     "traceback": [
      "\u001b[0;31m---------------------------------------------------------------------------\u001b[0m",
      "\u001b[0;31mNameError\u001b[0m                                 Traceback (most recent call last)",
      "\u001b[0;32m<ipython-input-82-479bcdcd1363>\u001b[0m in \u001b[0;36m<module>\u001b[0;34m()\u001b[0m\n\u001b[1;32m     21\u001b[0m \u001b[0minv_y\u001b[0m \u001b[0;34m=\u001b[0m \u001b[0minv_y\u001b[0m\u001b[0;34m[\u001b[0m\u001b[0;34m:\u001b[0m\u001b[0;34m,\u001b[0m\u001b[0;36m0\u001b[0m\u001b[0;34m]\u001b[0m\u001b[0;34m\u001b[0m\u001b[0m\n\u001b[1;32m     22\u001b[0m \u001b[0;31m# calculate RMSE\u001b[0m\u001b[0;34m\u001b[0m\u001b[0;34m\u001b[0m\u001b[0m\n\u001b[0;32m---> 23\u001b[0;31m \u001b[0mrmse\u001b[0m \u001b[0;34m=\u001b[0m \u001b[0msqrt\u001b[0m\u001b[0;34m(\u001b[0m\u001b[0mmean_squared_error\u001b[0m\u001b[0;34m(\u001b[0m\u001b[0minv_y\u001b[0m\u001b[0;34m,\u001b[0m \u001b[0minv_yhat\u001b[0m\u001b[0;34m)\u001b[0m\u001b[0;34m)\u001b[0m\u001b[0;34m\u001b[0m\u001b[0m\n\u001b[0m\u001b[1;32m     24\u001b[0m \u001b[0mprint\u001b[0m\u001b[0;34m(\u001b[0m\u001b[0;34m'Test RMSE: %.3f'\u001b[0m \u001b[0;34m%\u001b[0m \u001b[0mrmse\u001b[0m\u001b[0;34m)\u001b[0m\u001b[0;34m\u001b[0m\u001b[0m\n",
      "\u001b[0;31mNameError\u001b[0m: name 'mean_squared_error' is not defined"
     ]
    },
    {
     "data": {
      "image/png": "[encoded data removed]",
      "text/plain": [
       "<Figure size 432x288 with 1 Axes>"
      ]
     },
     "metadata": {},
     "output_type": "display_data"
    }
   ],
   "source": [
    "model.add(LSTM(10,  dropout=0.4, input_shape=(train_X.shape[1], train_X.shape[2])))\n",
    "model.add(Dense(3, activation='relu'))\n",
    "\n",
    "model.compile(loss='mae', optimizer='adam', metrics=['accuracy'])\n",
    "history = model.fit(train_X, train_y, epochs=10, batch_size=1, validation_data=(test_X, test_y), verbose=2, shuffle=False)\n",
    "pyplot.plot(history.history['loss'], label='train')\n",
    "pyplot.plot(history.history['val_loss'], label='test')\n",
    "pyplot.legend()\n",
    "\n",
    "yhat = model.predict(test_X)\n",
    "# test_X = test_X.reshape((test_X.shape[0], test_X.shape[2]))\n",
    "\n",
    "# invert scaling for forecast\n",
    "# inv_yhat = concatenate((yhat, test_X[:, 2:]), axis=1)\n",
    "inv_yhat = scaler.inverse_transform(yhat)\n",
    "inv_yhat = inv_yhat[:,0]\n",
    "# invert scaling for actual\n",
    "# test_y = test_y.reshape((len(test_y), 1))\n",
    "# inv_y = concatenate((test_y, test_X[:, 2:]), axis=1)\n",
    "inv_y = scaler.inverse_transform(test_y)\n",
    "inv_y = inv_y[:,0]\n",
    "# calculate RMSE\n",
    "rmse = sqrt(mean_squared_error(inv_y, inv_yhat))\n",
    "print('Test RMSE: %.3f' % rmse)"
   ]
  },
  {
   "cell_type": "code",
   "execution_count": 14,
   "metadata": {},
   "outputs": [
    {
     "data": {
      "text/plain": [
       "(3591, 2)"
      ]
     },
     "execution_count": 14,
     "metadata": {},
     "output_type": "execute_result"
    }
   ],
   "source": [
    "yhat.shape"
   ]
  },
  {
   "cell_type": "code",
   "execution_count": 15,
   "metadata": {},
   "outputs": [
    {
     "data": {
      "text/plain": [
       "(3591, 214)"
      ]
     },
     "execution_count": 15,
     "metadata": {},
     "output_type": "execute_result"
    }
   ],
   "source": [
    "test_X.shape"
   ]
  },
  {
   "cell_type": "code",
   "execution_count": 16,
   "metadata": {},
   "outputs": [
    {
     "data": {
      "text/plain": [
       "(3591, 214)"
      ]
     },
     "execution_count": 16,
     "metadata": {},
     "output_type": "execute_result"
    }
   ],
   "source": [
    "inv_yhat.shape"
   ]
  },
  {
   "cell_type": "code",
   "execution_count": null,
   "metadata": {},
   "outputs": [],
   "source": []
  }
 ],
 "metadata": {
  "kernelspec": {
   "display_name": "Python 3",
   "language": "python",
   "name": "python3"
  },
  "language_info": {
   "codemirror_mode": {
    "name": "ipython",
    "version": 3
   },
   "file_extension": ".py",
   "mimetype": "text/x-python",
   "name": "python",
   "nbconvert_exporter": "python",
   "pygments_lexer": "ipython3",
   "version": "3.6.5"
  }
 },
 "nbformat": 4,
 "nbformat_minor": 2
}
