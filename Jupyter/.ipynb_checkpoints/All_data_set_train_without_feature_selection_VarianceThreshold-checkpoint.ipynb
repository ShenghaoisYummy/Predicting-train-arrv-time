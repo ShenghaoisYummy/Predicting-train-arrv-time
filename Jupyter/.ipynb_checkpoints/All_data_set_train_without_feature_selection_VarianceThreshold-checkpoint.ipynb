{
 "cells": [
  {
   "cell_type": "code",
   "execution_count": 27,
   "metadata": {},
   "outputs": [],
   "source": [
    "from math import sqrt\n",
    "from numpy import concatenate\n",
    "import numpy as np\n",
    "import matplotlib.pyplot as pyplot\n",
    "import pandas as pd\n",
    "from keras.models import Sequential\n",
    "from keras.layers import Dense, Dropout\n",
    "from keras.layers import LSTM\n",
    "from sklearn.preprocessing import MinMaxScaler\n",
    "from sklearn.model_selection import train_test_split\n",
    "from sklearn.feature_selection import VarianceThreshold\n",
    "from sklearn.metrics import mean_squared_error\n",
    "\n",
    "\n",
    "data_set = pd.read_csv('/Users/shenghaoisyummy/Capstone/feature_extraction_data_dummis_all.csv', index_col=0)"
   ]
  },
  {
   "cell_type": "code",
   "execution_count": 28,
   "metadata": {},
   "outputs": [
    {
     "data": {
      "text/plain": [
       "1          1436\n",
       "2             5\n",
       "3             9\n",
       "4            19\n",
       "5            23\n",
       "6            25\n",
       "7            29\n",
       "8            34\n",
       "9            38\n",
       "10           47\n",
       "11           60\n",
       "12           64\n",
       "13           66\n",
       "14           68\n",
       "15           74\n",
       "16           84\n",
       "17           86\n",
       "18           88\n",
       "19           91\n",
       "20           96\n",
       "21           99\n",
       "22          110\n",
       "23          117\n",
       "24          126\n",
       "25          131\n",
       "26          139\n",
       "27          146\n",
       "28          152\n",
       "29          154\n",
       "30          157\n",
       "           ... \n",
       "1046741    1171\n",
       "1046742    1176\n",
       "1046743    1184\n",
       "1046744    1192\n",
       "1046745    1198\n",
       "1046746    1201\n",
       "1046747    1203\n",
       "1046748    1205\n",
       "1046749    1210\n",
       "1046750    1215\n",
       "1046751    1217\n",
       "1046752    1220\n",
       "1046753    1223\n",
       "1046754    1228\n",
       "1046755    1231\n",
       "1046756    1235\n",
       "1046757    1241\n",
       "1046758    1248\n",
       "1047008     427\n",
       "1047009     428\n",
       "1047010     432\n",
       "1047011     440\n",
       "1047012     451\n",
       "1047013     466\n",
       "1047014     481\n",
       "1047015     485\n",
       "1047016     498\n",
       "1047017     506\n",
       "1047018     527\n",
       "1047019     540\n",
       "Name: target_minitues, Length: 69197, dtype: int64"
      ]
     },
     "execution_count": 28,
     "metadata": {},
     "output_type": "execute_result"
    }
   ],
   "source": [
    "def time_to_total_minutes(df):\n",
    "    df['target_minitues'] = df['actual_station_arrv_time_hours'] * 60 + df['actual_station_arrv_time_minutes']\n",
    "\n",
    "time_to_total_minutes(data_set)\n",
    "data_set['target_minitues']"
   ]
  },
  {
   "cell_type": "code",
   "execution_count": 29,
   "metadata": {},
   "outputs": [],
   "source": [
    "data_Y = data_set[['target_minitues']]\n",
    "data_set.drop(['actual_station_arrv_time_hours','actual_station_arrv_time_minutes', 'arrv_late_time', 'dprt_late_time', 'actual_station_dprt_time_hours', 'actual_station_dprt_time_minutes', 'target_minitues'], axis=1, inplace=True)"
   ]
  },
  {
   "cell_type": "code",
   "execution_count": 30,
   "metadata": {},
   "outputs": [],
   "source": [
    "data_X = data_set\n",
    "data_X.shape"
   ]
  },
  {
   "cell_type": "code",
   "execution_count": 31,
   "metadata": {},
   "outputs": [
    {
     "data": {
      "text/plain": [
       "array([[1436],\n",
       "       [   5],\n",
       "       [   9],\n",
       "       ...,\n",
       "       [ 506],\n",
       "       [ 527],\n",
       "       [ 540]], dtype=int64)"
      ]
     },
     "execution_count": 31,
     "metadata": {},
     "output_type": "execute_result"
    }
   ],
   "source": [
    "data_Y.values"
   ]
  },
  {
   "cell_type": "code",
   "execution_count": 32,
   "metadata": {},
   "outputs": [],
   "source": [
    "# make sure value as float\n",
    "data_X_values = data_X.values\n",
    "data_X_values = data_X_values.astype('float32')\n",
    "\n",
    "data_Y_values = data_Y.values\n",
    "data_Y_values = data_Y_values.astype('float32')\n",
    "# normalization\n",
    "scaler = MinMaxScaler(feature_range=(-1, 1))\n",
    "data_X_values = scaler.fit_transform(data_X_values)\n",
    "data_Y_values = scaler.fit_transform(data_Y_values)\n",
    "# split train test\n",
    "train_X, test_X, train_y, test_y = train_test_split(data_X_values, data_Y_values, test_size = 0.2, random_state = 4)\n",
    "\n",
    "# reshape input to be 3D [samples, timesteps, features]\n",
    "train_X = train_X.reshape((train_X.shape[0], 1, train_X.shape[1]))\n",
    "test_X = test_X.reshape((test_X.shape[0], 1, test_X.shape[1]))\n",
    "\n"
   ]
  },
  {
   "cell_type": "code",
   "execution_count": 33,
   "metadata": {},
   "outputs": [],
   "source": [
    "model = Sequential()"
   ]
  },
  {
   "cell_type": "code",
   "execution_count": 34,
   "metadata": {},
   "outputs": [
    {
     "name": "stdout",
     "output_type": "stream",
     "text": [
      "Train on 55357 samples, validate on 13840 samples\n",
      "Epoch 1/10\n",
      " - 374s - loss: 0.4056 - acc: 3.6129e-05 - val_loss: 0.1985 - val_acc: 2.8902e-04\n",
      "Epoch 2/10\n",
      " - 398s - loss: 0.2151 - acc: 2.1677e-04 - val_loss: 0.2244 - val_acc: 2.8902e-04\n",
      "Epoch 3/10\n",
      " - 372s - loss: 0.2066 - acc: 2.1677e-04 - val_loss: 0.1987 - val_acc: 2.8902e-04\n",
      "Epoch 4/10\n",
      " - 445s - loss: 0.1992 - acc: 2.7097e-04 - val_loss: 0.2216 - val_acc: 2.8902e-04\n",
      "Epoch 5/10\n",
      " - 438s - loss: 0.1960 - acc: 2.5290e-04 - val_loss: 0.2298 - val_acc: 2.8902e-04\n",
      "Epoch 6/10\n",
      " - 878s - loss: 0.1943 - acc: 2.5290e-04 - val_loss: 0.2338 - val_acc: 3.6127e-04\n",
      "Epoch 7/10\n",
      " - 1156s - loss: 0.1929 - acc: 2.8903e-04 - val_loss: 0.2288 - val_acc: 3.6127e-04\n",
      "Epoch 8/10\n",
      " - 605s - loss: 0.1922 - acc: 2.7097e-04 - val_loss: 0.2257 - val_acc: 3.6127e-04\n",
      "Epoch 9/10\n",
      " - 1913s - loss: 0.1914 - acc: 2.8903e-04 - val_loss: 0.2265 - val_acc: 3.6127e-04\n",
      "Epoch 10/10\n",
      " - 3199s - loss: 0.1909 - acc: 2.8903e-04 - val_loss: 0.2278 - val_acc: 3.6127e-04\n"
     ]
    },
    {
     "data": {
      "image/png": "[encoded data removed]",
      "text/plain": [
       "<Figure size 432x288 with 1 Axes>"
      ]
     },
     "metadata": {},
     "output_type": "display_data"
    },
    {
     "ename": "NameError",
     "evalue": "name 'mean_squared_error' is not defined",
     "output_type": "error",
     "traceback": [
      "\u001b[0;31m---------------------------------------------------------------------------\u001b[0m",
      "\u001b[0;31mNameError\u001b[0m                                 Traceback (most recent call last)",
      "\u001b[0;32m<ipython-input-34-db8623c534d6>\u001b[0m in \u001b[0;36m<module>\u001b[0;34m()\u001b[0m\n\u001b[1;32m     21\u001b[0m \u001b[0minv_y\u001b[0m \u001b[0;34m=\u001b[0m \u001b[0minv_y\u001b[0m\u001b[0;34m[\u001b[0m\u001b[0;34m:\u001b[0m\u001b[0;34m,\u001b[0m\u001b[0;36m0\u001b[0m\u001b[0;34m]\u001b[0m\u001b[0;34m\u001b[0m\u001b[0m\n\u001b[1;32m     22\u001b[0m \u001b[0;31m# calculate RMSE\u001b[0m\u001b[0;34m\u001b[0m\u001b[0;34m\u001b[0m\u001b[0m\n\u001b[0;32m---> 23\u001b[0;31m \u001b[0mrmse\u001b[0m \u001b[0;34m=\u001b[0m \u001b[0msqrt\u001b[0m\u001b[0;34m(\u001b[0m\u001b[0mmean_squared_error\u001b[0m\u001b[0;34m(\u001b[0m\u001b[0minv_y\u001b[0m\u001b[0;34m,\u001b[0m \u001b[0minv_yhat\u001b[0m\u001b[0;34m)\u001b[0m\u001b[0;34m)\u001b[0m\u001b[0;34m\u001b[0m\u001b[0m\n\u001b[0m\u001b[1;32m     24\u001b[0m \u001b[0mprint\u001b[0m\u001b[0;34m(\u001b[0m\u001b[0;34m'Test RMSE: %.3f'\u001b[0m \u001b[0;34m%\u001b[0m \u001b[0mrmse\u001b[0m\u001b[0;34m)\u001b[0m\u001b[0;34m\u001b[0m\u001b[0m\n",
      "\u001b[0;31mNameError\u001b[0m: name 'mean_squared_error' is not defined"
     ]
    }
   ],
   "source": [
    "model.add(LSTM(70,  dropout=0.2, input_shape=(train_X.shape[1], train_X.shape[2])))\n",
    "model.add(Dense(1, activation='relu'))\n",
    "\n",
    "model.compile(loss='mae', optimizer='adam')\n",
    "history = model.fit(train_X, train_y, epochs=10, batch_size=1, validation_data=(test_X, test_y), verbose=2, shuffle=False)\n",
    "pyplot.plot(history.history['loss'], label='train')\n",
    "pyplot.plot(history.history['val_loss'], label='test')\n",
    "pyplot.legend()\n",
    "pyplot.show()\n",
    "\n",
    "yhat = model.predict(test_X)\n",
    "test_X = test_X.reshape((test_X.shape[0], test_X.shape[2]))\n",
    "# invert scaling for forecast\n",
    "inv_yhat = concatenate((yhat, test_X[:, 1:]), axis=1)\n",
    "inv_yhat = scaler.inverse_transform(inv_yhat)\n",
    "inv_yhat = inv_yhat[:,0]\n",
    "# invert scaling for actual\n",
    "test_y = test_y.reshape((len(test_y), 1))\n",
    "inv_y = concatenate((test_y, test_X[:, 1:]), axis=1)\n",
    "inv_y = scaler.inverse_transform(inv_y)\n",
    "inv_y = inv_y[:,0]\n",
    "# calculate RMSE\n",
    "rmse = sqrt(mean_squared_error(inv_y, inv_yhat))\n",
    "print('Test RMSE: %.3f' % rmse)"
   ]
  },
  {
   "cell_type": "code",
   "execution_count": 35,
   "metadata": {},
   "outputs": [
    {
     "name": "stdout",
     "output_type": "stream",
     "text": [
      "Test RMSE: 237.524\n"
     ]
    }
   ],
   "source": [
    "rmse = sqrt(mean_squared_error(inv_y, inv_yhat))\n",
    "print('Test RMSE: %.3f' % rmse)\n"
   ]
  },
  {
   "cell_type": "code",
   "execution_count": null,
   "metadata": {},
   "outputs": [],
   "source": []
  }
 ],
 "metadata": {
  "kernelspec": {
   "display_name": "Python 3",
   "language": "python",
   "name": "python3"
  },
  "language_info": {
   "codemirror_mode": {
    "name": "ipython",
    "version": 3
   },
   "file_extension": ".py",
   "mimetype": "text/x-python",
   "name": "python",
   "nbconvert_exporter": "python",
   "pygments_lexer": "ipython3",
   "version": "3.6.5"
  }
 },
 "nbformat": 4,
 "nbformat_minor": 2
}
