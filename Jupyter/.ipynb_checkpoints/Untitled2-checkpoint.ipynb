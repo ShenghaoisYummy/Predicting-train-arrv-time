{
 "cells": [
  {
   "cell_type": "code",
   "execution_count": 49,
   "metadata": {},
   "outputs": [],
   "source": [
    "import featureextraction as fe\n",
    "from sklearn import preprocessing\n",
    "from datetime import datetime, timedelta\n",
    "import pandas as pd\n",
    "import numpy as np\n",
    "import os\n",
    "import sys\n",
    "import matplotlib.pyplot as plt\n",
    "\n",
    "csv= pd.read_csv('/Users/shenghaoisyummy/Capstone/filted_brief.csv', index_col=0)\n",
    "csv = csv.rename(columns={'station_arrival_status': 'actual_station_arrv_time'})\n",
    "csv = csv.dropna()"
   ]
  },
  {
   "cell_type": "code",
   "execution_count": 50,
   "metadata": {},
   "outputs": [
    {
     "name": "stdout",
     "output_type": "stream",
     "text": [
      "<class 'pandas.core.frame.DataFrame'>\n",
      "Int64Index: 17954 entries, 0 to 97424\n",
      "Data columns (total 19 columns):\n",
      "business_centre              17954 non-null object\n",
      "service_date                 17954 non-null object\n",
      "segment_direction            17954 non-null object\n",
      "trip_name                    17954 non-null object\n",
      "service_line                 17954 non-null object\n",
      "origin_station               17954 non-null object\n",
      "dest_station                 17954 non-null object\n",
      "trip_dprt_status             17954 non-null object\n",
      "trip_arrv_status             17954 non-null object\n",
      "leading_set_number           17954 non-null object\n",
      "node_seq_order               17954 non-null int64\n",
      "planned_stop_node            17954 non-null object\n",
      "planned_stop_station         17954 non-null object\n",
      "planned_station_dprt_time    17954 non-null object\n",
      "planned_station_arrv_time    17954 non-null object\n",
      "actual_stop_node             17954 non-null object\n",
      "actual_stop_station          17954 non-null object\n",
      "actual_station_dprt_time     17954 non-null object\n",
      "actual_station_arrv_time     17954 non-null object\n",
      "dtypes: int64(1), object(18)\n",
      "memory usage: 2.7+ MB\n"
     ]
    }
   ],
   "source": [
    "feature_extraction_data = csv\n",
    "feature_extraction_data.info()"
   ]
  },
  {
   "cell_type": "code",
   "execution_count": 51,
   "metadata": {},
   "outputs": [
    {
     "ename": "AttributeError",
     "evalue": "module 'datetime' has no attribute 'strptime'",
     "output_type": "error",
     "traceback": [
      "\u001b[0;31m---------------------------------------------------------------------------\u001b[0m",
      "\u001b[0;31mAttributeError\u001b[0m                            Traceback (most recent call last)",
      "\u001b[0;32m<ipython-input-51-0f79989744fd>\u001b[0m in \u001b[0;36m<module>\u001b[0;34m()\u001b[0m\n\u001b[0;32m----> 1\u001b[0;31m \u001b[0mfe\u001b[0m\u001b[0;34m.\u001b[0m\u001b[0mchange_date_format\u001b[0m\u001b[0;34m(\u001b[0m\u001b[0mfeature_extraction_data\u001b[0m\u001b[0;34m)\u001b[0m\u001b[0;34m\u001b[0m\u001b[0m\n\u001b[0m\u001b[1;32m      2\u001b[0m \u001b[0mfe\u001b[0m\u001b[0;34m.\u001b[0m\u001b[0mcal_late_time\u001b[0m\u001b[0;34m(\u001b[0m\u001b[0mfeature_extraction_data\u001b[0m\u001b[0;34m)\u001b[0m\u001b[0;34m\u001b[0m\u001b[0m\n\u001b[1;32m      3\u001b[0m \u001b[0mfe\u001b[0m\u001b[0;34m.\u001b[0m\u001b[0mcal_last_node_late\u001b[0m\u001b[0;34m(\u001b[0m\u001b[0mfeature_extraction_data\u001b[0m\u001b[0;34m)\u001b[0m\u001b[0;34m\u001b[0m\u001b[0m\n\u001b[1;32m      4\u001b[0m \u001b[0mfe\u001b[0m\u001b[0;34m.\u001b[0m\u001b[0mcal_last_n_node_late\u001b[0m\u001b[0;34m(\u001b[0m\u001b[0mfeature_extraction_data\u001b[0m\u001b[0;34m,\u001b[0m \u001b[0;36m2\u001b[0m\u001b[0;34m)\u001b[0m\u001b[0;34m\u001b[0m\u001b[0m\n\u001b[1;32m      5\u001b[0m \u001b[0mfe\u001b[0m\u001b[0;34m.\u001b[0m\u001b[0mcal_last_n_node_late\u001b[0m\u001b[0;34m(\u001b[0m\u001b[0mfeature_extraction_data\u001b[0m\u001b[0;34m,\u001b[0m \u001b[0;36m7\u001b[0m \u001b[0;34m)\u001b[0m\u001b[0;34m\u001b[0m\u001b[0m\n",
      "\u001b[0;32m~/Capstone/Predicting-train-arrv-time/helperfunction/featureextraction.py\u001b[0m in \u001b[0;36mchange_date_format\u001b[0;34m(df)\u001b[0m\n\u001b[1;32m     71\u001b[0m             \u001b[0mdf\u001b[0m\u001b[0;34m.\u001b[0m\u001b[0mloc\u001b[0m\u001b[0;34m[\u001b[0m\u001b[0midx\u001b[0m\u001b[0;34m,\u001b[0m \u001b[0;34m'last_{}_node_dprt_late_time_median'\u001b[0m\u001b[0;34m.\u001b[0m\u001b[0mformat\u001b[0m\u001b[0;34m(\u001b[0m\u001b[0mn\u001b[0m\u001b[0;34m)\u001b[0m\u001b[0;34m]\u001b[0m \u001b[0;34m=\u001b[0m \u001b[0;36m0\u001b[0m\u001b[0;34m\u001b[0m\u001b[0m\n\u001b[1;32m     72\u001b[0m             \u001b[0mdf\u001b[0m\u001b[0;34m.\u001b[0m\u001b[0mloc\u001b[0m\u001b[0;34m[\u001b[0m\u001b[0midx\u001b[0m\u001b[0;34m,\u001b[0m \u001b[0;34m'last_{}_node_arrv_late_time_std'\u001b[0m\u001b[0;34m.\u001b[0m\u001b[0mformat\u001b[0m\u001b[0;34m(\u001b[0m\u001b[0mn\u001b[0m\u001b[0;34m)\u001b[0m\u001b[0;34m]\u001b[0m \u001b[0;34m=\u001b[0m \u001b[0;36m0\u001b[0m\u001b[0;34m\u001b[0m\u001b[0m\n\u001b[0;32m---> 73\u001b[0;31m             \u001b[0mdf\u001b[0m\u001b[0;34m.\u001b[0m\u001b[0mloc\u001b[0m\u001b[0;34m[\u001b[0m\u001b[0midx\u001b[0m\u001b[0;34m,\u001b[0m \u001b[0;34m'last_{}_node_dprt_late_time_std'\u001b[0m\u001b[0;34m.\u001b[0m\u001b[0mformat\u001b[0m\u001b[0;34m(\u001b[0m\u001b[0mn\u001b[0m\u001b[0;34m)\u001b[0m\u001b[0;34m]\u001b[0m \u001b[0;34m=\u001b[0m \u001b[0;36m0\u001b[0m\u001b[0;34m\u001b[0m\u001b[0m\n\u001b[0m\u001b[1;32m     74\u001b[0m             \u001b[0mdf\u001b[0m\u001b[0;34m.\u001b[0m\u001b[0mloc\u001b[0m\u001b[0;34m[\u001b[0m\u001b[0midx\u001b[0m\u001b[0;34m,\u001b[0m \u001b[0;34m'last_{}_node_arrv_late_time_max'\u001b[0m\u001b[0;34m.\u001b[0m\u001b[0mformat\u001b[0m\u001b[0;34m(\u001b[0m\u001b[0mn\u001b[0m\u001b[0;34m)\u001b[0m\u001b[0;34m]\u001b[0m \u001b[0;34m=\u001b[0m \u001b[0;36m0\u001b[0m\u001b[0;34m\u001b[0m\u001b[0m\n\u001b[1;32m     75\u001b[0m             \u001b[0mdf\u001b[0m\u001b[0;34m.\u001b[0m\u001b[0mloc\u001b[0m\u001b[0;34m[\u001b[0m\u001b[0midx\u001b[0m\u001b[0;34m,\u001b[0m \u001b[0;34m'last_{}_node_dprt_late_time_max'\u001b[0m\u001b[0;34m.\u001b[0m\u001b[0mformat\u001b[0m\u001b[0;34m(\u001b[0m\u001b[0mn\u001b[0m\u001b[0;34m)\u001b[0m\u001b[0;34m]\u001b[0m \u001b[0;34m=\u001b[0m \u001b[0;36m0\u001b[0m\u001b[0;34m\u001b[0m\u001b[0m\n",
      "\u001b[0;31mAttributeError\u001b[0m: module 'datetime' has no attribute 'strptime'"
     ]
    }
   ],
   "source": [
    "fe.change_date_format(feature_extraction_data)\n",
    "fe.cal_late_time(feature_extraction_data)\n",
    "fe.cal_last_node_late(feature_extraction_data)\n",
    "fe.cal_last_n_node_late(feature_extraction_data, 2)\n",
    "fe.cal_last_n_node_late(feature_extraction_data, 7 )\n",
    "fe.cal_last_n_node_late(feature_extraction_data, 14)\n",
    "fe.cal_last_n_days_late(feature_extraction_data, 2)\n",
    "fe.cal_last_n_days_late(feature_extraction_data, 7)\n",
    "fe.cal_last_n_days_late(feature_extraction_data, 14)\n",
    "fe.col_group(feature_extraction_data, 'trip_name')\n",
    "fe.col_group(feature_extraction_data, 'leading_set_number')\n",
    "fe.col_group(feature_extraction_data, 'trip_name')\n",
    "fe.col_group(feature_extraction_data, 'planned_stop_node')\n",
    "fe.col_group(feature_extraction_data, 'actual_stop_node')\n",
    "fe.is_same_stop_station(feature_extraction_data)\n",
    "fe.date_to_week(feature_extraction_data)\n",
    "fe.split_date(feature_extraction_data, 'planned_station_dprt_time')\n",
    "fe.split_date(feature_extraction_data, 'planned_station_arrv_time')\n",
    "fe.split_date(feature_extraction_data, 'actual_station_dprt_time')\n",
    "fe.split_date(feature_extraction_data, 'actual_station_dprt_time')\n",
    "fe.is_peak_time(feature_extraction_data)"
   ]
  },
  {
   "cell_type": "code",
   "execution_count": 52,
   "metadata": {},
   "outputs": [
    {
     "data": {
      "text/plain": [
       "['/Users/shenghaoisyummy/Capstone/Predicting-train-arrv-time/helperfunction',\n",
       " '/Users/shenghaoisyummy/Capstone/Predicting-train-arrv-time/helperfunction',\n",
       " '/Users/shenghaoisyummy/Capstone/Predicting-train-arrv-time/helperfunction',\n",
       " '/Users/shenghaoisyummy/Capstone/Predicting-train-arrv-time/helperfunction',\n",
       " '/Users/shenghaoisyummy/Capstone/Predicting-train-arrv-time/helperfunction',\n",
       " '/Users/shenghaoisyummy/Capstone/Predicting-train-arrv-time/helperfunction',\n",
       " '/Users/shenghaoisyummy/Capstone/Predicting-train-arrv-time/helperfunction',\n",
       " '/Users/shenghaoisyummy/Capstone/Predicting-train-arrv-time/helperfunction',\n",
       " '/Users/shenghaoisyummy/Capstone/Predicting-train-arrv-time/helperfunction',\n",
       " '/Users/shenghaoisyummy/Capstone/Predicting-train-arrv-time/helperfunction',\n",
       " '/Users/shenghaoisyummy/Capstone/Predicting-train-arrv-time/helperfunction',\n",
       " '/Users/shenghaoisyummy/Capstone/Predicting-train-arrv-time/helperfunction',\n",
       " '/Users/shenghaoisyummy/Capstone/Predicting-train-arrv-time/helperfunction',\n",
       " '/Users/shenghaoisyummy/Capstone/Predicting-train-arrv-time/helperfunction',\n",
       " '/Users/shenghaoisyummy/Capstone/Predicting-train-arrv-time/helperfunction',\n",
       " '/Users/shenghaoisyummy/Capstone/Predicting-train-arrv-time/helperfunction',\n",
       " '',\n",
       " '/anaconda3/lib/python36.zip',\n",
       " '/anaconda3/lib/python3.6',\n",
       " '/anaconda3/lib/python3.6/lib-dynload',\n",
       " '/anaconda3/lib/python3.6/site-packages',\n",
       " '/anaconda3/lib/python3.6/site-packages/aeosa',\n",
       " '/anaconda3/lib/python3.6/site-packages/IPython/extensions',\n",
       " '/Users/shenghaoisyummy/.ipython']"
      ]
     },
     "execution_count": 52,
     "metadata": {},
     "output_type": "execute_result"
    }
   ],
   "source": [
    "sys.path"
   ]
  },
  {
   "cell_type": "code",
   "execution_count": null,
   "metadata": {},
   "outputs": [],
   "source": []
  }
 ],
 "metadata": {
  "kernelspec": {
   "display_name": "Python 3",
   "language": "python",
   "name": "python3"
  },
  "language_info": {
   "codemirror_mode": {
    "name": "ipython",
    "version": 3
   },
   "file_extension": ".py",
   "mimetype": "text/x-python",
   "name": "python",
   "nbconvert_exporter": "python",
   "pygments_lexer": "ipython3",
   "version": "3.6.5"
  }
 },
 "nbformat": 4,
 "nbformat_minor": 2
}
