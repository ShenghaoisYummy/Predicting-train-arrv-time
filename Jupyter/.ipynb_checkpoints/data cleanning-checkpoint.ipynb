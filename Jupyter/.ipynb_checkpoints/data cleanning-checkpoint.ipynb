{
 "cells": [
  {
   "cell_type": "code",
   "execution_count": 18,
   "metadata": {},
   "outputs": [],
   "source": [
    "from math import sqrt\n",
    "from numpy import concatenate\n",
    "import numpy as np\n",
    "import matplotlib.pyplot as pyplot\n",
    "import pandas as pd\n",
    "from keras.models import Sequential\n",
    "from keras.layers import Dense, Dropout\n",
    "from keras.layers import LSTM\n",
    "from sklearn.preprocessing import MinMaxScaler\n",
    "from sklearn.model_selection import train_test_split\n",
    "from sklearn.feature_selection import VarianceThreshold\n",
    "from sklearn.metrics import mean_squared_error\n",
    "\n",
    "\n",
    "data_set = pd.read_csv('/Users/shenghaoisyummy/Capstone/feature_extraction_data_dummis_all.csv', index_col=0)"
   ]
  },
  {
   "cell_type": "code",
   "execution_count": 19,
   "metadata": {},
   "outputs": [
    {
     "data": {
      "text/plain": [
       "1         -1.0\n",
       "2         -1.0\n",
       "3         -1.0\n",
       "4         -2.0\n",
       "5         -1.0\n",
       "6         -1.0\n",
       "7         -1.0\n",
       "8         -1.0\n",
       "9         -1.0\n",
       "10        -2.0\n",
       "11        -2.0\n",
       "12        -1.0\n",
       "13        -2.0\n",
       "14        -2.0\n",
       "15         0.0\n",
       "16         0.0\n",
       "17         0.0\n",
       "18         0.0\n",
       "19         0.0\n",
       "20        -2.0\n",
       "21        -2.0\n",
       "22        -1.0\n",
       "23        -1.0\n",
       "24        -1.0\n",
       "25        -1.0\n",
       "26        -3.0\n",
       "27        -2.0\n",
       "28         0.0\n",
       "29         0.0\n",
       "30        -1.0\n",
       "          ... \n",
       "1046741    0.0\n",
       "1046742    0.0\n",
       "1046743   -2.0\n",
       "1046744   -1.0\n",
       "1046745   -1.0\n",
       "1046746    0.0\n",
       "1046747   -1.0\n",
       "1046748   -1.0\n",
       "1046749    0.0\n",
       "1046750    1.0\n",
       "1046751    1.0\n",
       "1046752    1.0\n",
       "1046753    2.0\n",
       "1046754    1.0\n",
       "1046755    1.0\n",
       "1046756    1.0\n",
       "1046757    1.0\n",
       "1046758    1.0\n",
       "1047008    0.0\n",
       "1047009    0.0\n",
       "1047010    0.0\n",
       "1047011    1.0\n",
       "1047012    1.0\n",
       "1047013    0.0\n",
       "1047014   -1.0\n",
       "1047015    0.0\n",
       "1047016   -1.0\n",
       "1047017   -1.0\n",
       "1047018   -2.0\n",
       "1047019   -2.0\n",
       "Name: target_minitues, Length: 69197, dtype: float64"
      ]
     },
     "execution_count": 19,
     "metadata": {},
     "output_type": "execute_result"
    }
   ],
   "source": [
    "def time_to_total_minutes(df):\n",
    "    df['target_minitues'] = df['arrv_late_time']/60\n",
    "\n",
    "time_to_total_minutes(data_set)\n",
    "data_set['target_minitues']"
   ]
  },
  {
   "cell_type": "code",
   "execution_count": 20,
   "metadata": {},
   "outputs": [],
   "source": [
    "data_Y = data_set[['target_minitues']]\n",
    "data_set.drop(['actual_station_arrv_time_hours','actual_station_arrv_time_minutes', 'arrv_late_time', 'dprt_late_time', 'actual_station_dprt_time_hours', 'actual_station_dprt_time_minutes', 'target_minitues'], axis=1, inplace=True)"
   ]
  },
  {
   "cell_type": "code",
   "execution_count": 21,
   "metadata": {},
   "outputs": [
    {
     "data": {
      "text/plain": [
       "(69197, 88)"
      ]
     },
     "execution_count": 21,
     "metadata": {},
     "output_type": "execute_result"
    }
   ],
   "source": [
    "data_X = VarianceThreshold(threshold=3).fit_transform(data_set)\n",
    "data_X.shape"
   ]
  },
  {
   "cell_type": "code",
   "execution_count": 22,
   "metadata": {},
   "outputs": [
    {
     "data": {
      "text/plain": [
       "array([[-1.],\n",
       "       [-1.],\n",
       "       [-1.],\n",
       "       ...,\n",
       "       [-1.],\n",
       "       [-2.],\n",
       "       [-2.]])"
      ]
     },
     "execution_count": 22,
     "metadata": {},
     "output_type": "execute_result"
    }
   ],
   "source": [
    "data_Y.values"
   ]
  },
  {
   "cell_type": "code",
   "execution_count": 23,
   "metadata": {},
   "outputs": [],
   "source": [
    "# make sure value as float\n",
    "data_X_values = data_X\n",
    "data_X_values = data_X_values.astype('float32')\n",
    "\n",
    "data_Y_values = data_Y.values\n",
    "data_Y_values = data_Y_values.astype('float32')\n",
    "# normalization\n",
    "scaler = MinMaxScaler(feature_range=(-1, 1))\n",
    "data_X_values = scaler.fit_transform(data_X_values)\n",
    "data_Y_values = scaler.fit_transform(data_Y_values)\n",
    "# split train test\n",
    "train_X, test_X, train_y, test_y = train_test_split(data_X_values, data_Y_values, test_size = 0.2, random_state = 4)\n",
    "\n",
    "# reshape input to be 3D [samples, timesteps, features]\n",
    "train_X = train_X.reshape((train_X.shape[0], 1, train_X.shape[1]))\n",
    "test_X = test_X.reshape((test_X.shape[0], 1, test_X.shape[1]))\n",
    "\n"
   ]
  },
  {
   "cell_type": "code",
   "execution_count": 24,
   "metadata": {},
   "outputs": [],
   "source": [
    "model = Sequential()"
   ]
  },
  {
   "cell_type": "code",
   "execution_count": 25,
   "metadata": {},
   "outputs": [
    {
     "name": "stdout",
     "output_type": "stream",
     "text": [
      "Train on 55357 samples, validate on 13840 samples\n",
      "Epoch 1/50\n",
      " - 386s - loss: 0.0117 - val_loss: 0.0083\n",
      "Epoch 2/50\n",
      " - 380s - loss: 0.0090 - val_loss: 0.0086\n",
      "Epoch 3/50\n",
      " - 362s - loss: 0.0089 - val_loss: 0.0076\n",
      "Epoch 4/50\n",
      " - 377s - loss: 0.0088 - val_loss: 0.0071\n",
      "Epoch 5/50\n",
      " - 391s - loss: 0.0088 - val_loss: 0.0078\n",
      "Epoch 6/50\n",
      " - 344s - loss: 0.0088 - val_loss: 0.0073\n",
      "Epoch 7/50\n",
      " - 379s - loss: 0.0087 - val_loss: 0.0084\n",
      "Epoch 8/50\n",
      " - 381s - loss: 0.0087 - val_loss: 0.0076\n",
      "Epoch 9/50\n",
      " - 379s - loss: 0.0086 - val_loss: 0.0071\n",
      "Epoch 10/50\n",
      " - 351s - loss: 0.0087 - val_loss: 0.0085\n",
      "Epoch 11/50\n",
      " - 384s - loss: 0.0087 - val_loss: 0.0072\n",
      "Epoch 12/50\n",
      " - 340s - loss: 0.0086 - val_loss: 0.0069\n",
      "Epoch 13/50\n",
      " - 2763s - loss: 0.0086 - val_loss: 0.0082\n",
      "Epoch 14/50\n",
      " - 11307s - loss: 0.0086 - val_loss: 0.0074\n",
      "Epoch 15/50\n",
      " - 12514s - loss: 0.0086 - val_loss: 0.0080\n",
      "Epoch 16/50\n",
      " - 2292s - loss: 0.0086 - val_loss: 0.0077\n",
      "Epoch 17/50\n",
      " - 3351s - loss: 0.0086 - val_loss: 0.0069\n",
      "Epoch 18/50\n",
      " - 672s - loss: 0.0086 - val_loss: 0.0071\n",
      "Epoch 19/50\n",
      " - 583s - loss: 0.0085 - val_loss: 0.0072\n",
      "Epoch 20/50\n",
      " - 584s - loss: 0.0085 - val_loss: 0.0071\n",
      "Epoch 21/50\n",
      " - 530s - loss: 0.0086 - val_loss: 0.0077\n",
      "Epoch 22/50\n",
      " - 598s - loss: 0.0085 - val_loss: 0.0070\n",
      "Epoch 23/50\n",
      " - 587s - loss: 0.0085 - val_loss: 0.0084\n",
      "Epoch 24/50\n",
      " - 442s - loss: 0.0085 - val_loss: 0.0081\n",
      "Epoch 25/50\n",
      " - 391s - loss: 0.0086 - val_loss: 0.0072\n",
      "Epoch 26/50\n",
      " - 450s - loss: 0.0085 - val_loss: 0.0082\n",
      "Epoch 27/50\n",
      " - 561s - loss: 0.0085 - val_loss: 0.0077\n",
      "Epoch 28/50\n",
      " - 505s - loss: 0.0085 - val_loss: 0.0068\n",
      "Epoch 29/50\n",
      " - 391s - loss: 0.0085 - val_loss: 0.0072\n",
      "Epoch 30/50\n",
      " - 463s - loss: 0.0085 - val_loss: 0.0069\n",
      "Epoch 31/50\n",
      " - 382s - loss: 0.0085 - val_loss: 0.0071\n",
      "Epoch 32/50\n",
      " - 386s - loss: 0.0085 - val_loss: 0.0072\n",
      "Epoch 33/50\n",
      " - 380s - loss: 0.0085 - val_loss: 0.0075\n",
      "Epoch 34/50\n",
      " - 379s - loss: 0.0085 - val_loss: 0.0069\n",
      "Epoch 35/50\n",
      " - 379s - loss: 0.0085 - val_loss: 0.0076\n",
      "Epoch 36/50\n",
      " - 379s - loss: 0.0085 - val_loss: 0.0075\n",
      "Epoch 37/50\n",
      " - 397s - loss: 0.0085 - val_loss: 0.0073\n",
      "Epoch 38/50\n",
      " - 389s - loss: 0.0085 - val_loss: 0.0068\n",
      "Epoch 39/50\n",
      " - 381s - loss: 0.0085 - val_loss: 0.0070\n",
      "Epoch 40/50\n",
      " - 449s - loss: 0.0085 - val_loss: 0.0074\n",
      "Epoch 41/50\n",
      " - 473s - loss: 0.0085 - val_loss: 0.0078\n",
      "Epoch 42/50\n",
      " - 521s - loss: 0.0085 - val_loss: 0.0071\n",
      "Epoch 43/50\n",
      " - 585s - loss: 0.0085 - val_loss: 0.0074\n",
      "Epoch 44/50\n",
      " - 620s - loss: 0.0085 - val_loss: 0.0069\n",
      "Epoch 45/50\n",
      " - 4458s - loss: 0.0085 - val_loss: 0.0077\n",
      "Epoch 46/50\n",
      " - 557s - loss: 0.0085 - val_loss: 0.0083\n",
      "Epoch 47/50\n",
      " - 523s - loss: 0.0085 - val_loss: 0.0076\n",
      "Epoch 48/50\n",
      " - 803s - loss: 0.0085 - val_loss: 0.0067\n",
      "Epoch 49/50\n",
      " - 403s - loss: 0.0085 - val_loss: 0.0071\n",
      "Epoch 50/50\n",
      " - 413s - loss: 0.0085 - val_loss: 0.0073\n"
     ]
    },
    {
     "data": {
      "image/png": "[encoded data removed]",
      "text/plain": [
       "<Figure size 432x288 with 1 Axes>"
      ]
     },
     "metadata": {},
     "output_type": "display_data"
    },
    {
     "name": "stdout",
     "output_type": "stream",
     "text": [
      "Test RMSE: 5.221\n"
     ]
    }
   ],
   "source": [
    "model.add(LSTM(70,  dropout=0.2, input_shape=(train_X.shape[1], train_X.shape[2])))\n",
    "model.add(Dense(1, activation='relu'))\n",
    "\n",
    "model.compile(loss='mae', optimizer='adam')\n",
    "history = model.fit(train_X, train_y, epochs=50, batch_size=1, validation_data=(test_X, test_y), verbose=2, shuffle=False)\n",
    "pyplot.plot(history.history['loss'], label='train')\n",
    "pyplot.plot(history.history['val_loss'], label='test')\n",
    "pyplot.legend()\n",
    "pyplot.show()\n",
    "\n",
    "yhat = model.predict(test_X)\n",
    "test_X = test_X.reshape((test_X.shape[0], test_X.shape[2]))\n",
    "# invert scaling for forecast\n",
    "inv_yhat = concatenate((yhat, test_X[:, 1:]), axis=1)\n",
    "inv_yhat = scaler.inverse_transform(inv_yhat)\n",
    "inv_yhat = inv_yhat[:,0]\n",
    "# invert scaling for actual\n",
    "test_y = test_y.reshape((len(test_y), 1))\n",
    "inv_y = concatenate((test_y, test_X[:, 1:]), axis=1)\n",
    "inv_y = scaler.inverse_transform(inv_y)\n",
    "inv_y = inv_y[:,0]\n",
    "# calculate RMSE\n",
    "rmse = sqrt(mean_squared_error(inv_y, inv_yhat))\n",
    "print('Test RMSE: %.3f' % rmse)"
   ]
  },
  {
   "cell_type": "code",
   "execution_count": null,
   "metadata": {},
   "outputs": [],
   "source": []
  },
  {
   "cell_type": "code",
   "execution_count": null,
   "metadata": {},
   "outputs": [],
   "source": []
  }
 ],
 "metadata": {
  "kernelspec": {
   "display_name": "Python 3",
   "language": "python",
   "name": "python3"
  },
  "language_info": {
   "codemirror_mode": {
    "name": "ipython",
    "version": 3
   },
   "file_extension": ".py",
   "mimetype": "text/x-python",
   "name": "python",
   "nbconvert_exporter": "python",
   "pygments_lexer": "ipython3",
   "version": "3.6.5"
  }
 },
 "nbformat": 4,
 "nbformat_minor": 2
}
