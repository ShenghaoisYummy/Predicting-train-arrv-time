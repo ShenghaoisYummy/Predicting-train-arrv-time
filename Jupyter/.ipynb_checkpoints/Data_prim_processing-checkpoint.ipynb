{
 "cells": [
  {
   "cell_type": "code",
   "execution_count": 1,
   "metadata": {},
   "outputs": [
    {
     "data": {
      "text/plain": [
       "business_centre              object\n",
       "service_date                 object\n",
       "segment_direction            object\n",
       "trip_name                    object\n",
       "service_type                 object\n",
       "service_line                 object\n",
       "trip_zone                    object\n",
       "origin_station               object\n",
       "dest_station                 object\n",
       "trip_dprt_status             object\n",
       "trip_arrv_status             object\n",
       "leading_set_number           object\n",
       "leading_set_type             object\n",
       "node_seq_order                int64\n",
       "planned_stop_node            object\n",
       "planned_stop_station         object\n",
       "planned_station_dprt_time    object\n",
       "planned_station_arrv_time    object\n",
       "actual_stop_node             object\n",
       "actual_stop_station          object\n",
       "actual_station_dprt_time     object\n",
       "station_arrival_status       object\n",
       "station_arrival_status.1     object\n",
       "station_departure_status     object\n",
       "dtype: object"
      ]
     },
     "execution_count": 1,
     "metadata": {},
     "output_type": "execute_result"
    }
   ],
   "source": [
    "import pandas as pd\n",
    "import numpy as np\n",
    "import os\n",
    "csv= pd.read_csv('/Users/shenghaoisyummy/PycharmProjects/Capstone/OTR-20171101-20180331.csv')\n",
    "csv.dtypes"
   ]
  },
  {
   "cell_type": "code",
   "execution_count": 8,
   "metadata": {},
   "outputs": [
    {
     "ename": "TypeError",
     "evalue": "'type' object is not iterable",
     "output_type": "error",
     "traceback": [
      "\u001b[0;31m---------------------------------------------------------------------------\u001b[0m",
      "\u001b[0;31mTypeError\u001b[0m                                 Traceback (most recent call last)",
      "\u001b[0;32m<ipython-input-8-527b5348622f>\u001b[0m in \u001b[0;36m<module>\u001b[0;34m()\u001b[0m\n\u001b[1;32m      8\u001b[0m \u001b[0mdropped\u001b[0m \u001b[0;34m=\u001b[0m \u001b[0mcsv\u001b[0m\u001b[0;34m.\u001b[0m\u001b[0mdrop\u001b[0m\u001b[0;34m(\u001b[0m\u001b[0;34m[\u001b[0m\u001b[0;34m'service_type'\u001b[0m\u001b[0;34m,\u001b[0m \u001b[0;34m'trip_zone'\u001b[0m\u001b[0;34m,\u001b[0m \u001b[0;34m'leading_set_type'\u001b[0m\u001b[0;34m,\u001b[0m \u001b[0;34m'station_arrival_status.1'\u001b[0m\u001b[0;34m,\u001b[0m \u001b[0;34m'station_departure_status'\u001b[0m\u001b[0;34m,\u001b[0m\u001b[0;34m'service_type'\u001b[0m\u001b[0;34m]\u001b[0m\u001b[0;34m,\u001b[0m \u001b[0maxis\u001b[0m \u001b[0;34m=\u001b[0m \u001b[0;36m1\u001b[0m\u001b[0;34m)\u001b[0m\u001b[0;34m\u001b[0m\u001b[0m\n\u001b[1;32m      9\u001b[0m \u001b[0mrowelement\u001b[0m\u001b[0;34m(\u001b[0m\u001b[0;34m'service_line'\u001b[0m\u001b[0;34m,\u001b[0m \u001b[0mcsv\u001b[0m\u001b[0;34m)\u001b[0m\u001b[0;34m\u001b[0m\u001b[0m\n\u001b[0;32m---> 10\u001b[0;31m \u001b[0;32mfor\u001b[0m \u001b[0mp\u001b[0m \u001b[0;32min\u001b[0m \u001b[0mlist\u001b[0m\u001b[0;34m:\u001b[0m \u001b[0mprint\u001b[0m\u001b[0;34m(\u001b[0m\u001b[0mp\u001b[0m\u001b[0;34m)\u001b[0m\u001b[0;34m\u001b[0m\u001b[0m\n\u001b[0m",
      "\u001b[0;31mTypeError\u001b[0m: 'type' object is not iterable"
     ]
    }
   ],
   "source": [
    "csv = csv.dropna()\n",
    "def rowelement(colname, df):\n",
    "    list = []\n",
    "    for index, row in df.iterrows():\n",
    "        if row[colname] not in list:\n",
    "            list.append(row[colname])\n",
    "    return list\n",
    "dropped = csv.drop(['service_type', 'trip_zone', 'leading_set_type', 'station_arrival_status.1', 'station_departure_status','service_type'], axis = 1)\n",
    "list = rowelement('service_line', csv)\n",
    "for p in list: print(p)"
   ]
  },
  {
   "cell_type": "code",
   "execution_count": 3,
   "metadata": {},
   "outputs": [],
   "source": [
    "filted = dropped[dropped.service_line =='Central Coast']"
   ]
  },
  {
   "cell_type": "code",
   "execution_count": null,
   "metadata": {},
   "outputs": [],
   "source": []
  },
  {
   "cell_type": "code",
   "execution_count": 4,
   "metadata": {},
   "outputs": [
    {
     "name": "stdout",
     "output_type": "stream",
     "text": [
      "<class 'pandas.core.frame.DataFrame'>\n",
      "Int64Index: 69198 entries, 0 to 1047019\n",
      "Data columns (total 19 columns):\n",
      "business_centre              69198 non-null object\n",
      "service_date                 69198 non-null object\n",
      "segment_direction            69198 non-null object\n",
      "trip_name                    69198 non-null object\n",
      "service_line                 69198 non-null object\n",
      "origin_station               69198 non-null object\n",
      "dest_station                 69198 non-null object\n",
      "trip_dprt_status             69198 non-null object\n",
      "trip_arrv_status             69198 non-null object\n",
      "leading_set_number           69198 non-null object\n",
      "node_seq_order               69198 non-null int64\n",
      "planned_stop_node            69198 non-null object\n",
      "planned_stop_station         69198 non-null object\n",
      "planned_station_dprt_time    69198 non-null object\n",
      "planned_station_arrv_time    69198 non-null object\n",
      "actual_stop_node             69198 non-null object\n",
      "actual_stop_station          69198 non-null object\n",
      "actual_station_dprt_time     69198 non-null object\n",
      "actual_station_arrv_time     69198 non-null object\n",
      "dtypes: int64(1), object(18)\n",
      "memory usage: 10.6+ MB\n"
     ]
    }
   ],
   "source": [
    "filted = filted.rename(columns={'station_arrival_status': 'actual_station_arrv_time'})\n",
    "filted.info()"
   ]
  },
  {
   "cell_type": "code",
   "execution_count": 5,
   "metadata": {},
   "outputs": [],
   "source": [
    "path = '/Users/shenghaoisyummy/';\n",
    "filted.to_csv(path + 'filted.csv')"
   ]
  },
  {
   "cell_type": "code",
   "execution_count": null,
   "metadata": {},
   "outputs": [],
   "source": []
  }
 ],
 "metadata": {
  "kernelspec": {
   "display_name": "Python 3",
   "language": "python",
   "name": "python3"
  },
  "language_info": {
   "codemirror_mode": {
    "name": "ipython",
    "version": 3
   },
   "file_extension": ".py",
   "mimetype": "text/x-python",
   "name": "python",
   "nbconvert_exporter": "python",
   "pygments_lexer": "ipython3",
   "version": "3.6.5"
  }
 },
 "nbformat": 4,
 "nbformat_minor": 2
}
